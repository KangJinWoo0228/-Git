{
 "cells": [
  {
   "cell_type": "markdown",
   "id": "80af8f04",
   "metadata": {},
   "source": [
    "### Git Bash 이용해서 Jupyter <---> Git 연동하는방법\n",
    "- git config --global user.email \"내 깃허브 메일 주소\"\n",
    "- git config --global user.name \"내 깃허브 이름\"\n"
   ]
  },
  {
   "cell_type": "markdown",
   "id": "00013048",
   "metadata": {},
   "source": [
    "### Git에 올릴 디렉토리 만들기\n",
    "- cd ~\n",
    "- mkdir workplace : 라즈베리파이 수업시간에 배움, make directory\n",
    "- cd workplace : change directory\n",
    "- git init : git initiate : 깃 시작"
   ]
  },
  {
   "cell_type": "markdown",
   "id": "66b819c9",
   "metadata": {},
   "source": [
    "### 주요 명령문\n",
    "- git status : 깃의 변화를 알아보게하는 명령어\n",
    "- git commit -m \"커밋에 대한 설명\"\n",
    "- git remote add origin https://github.com/xxx/repository주소.git  :  레퍼지토리 주소를 입력해서 연결\n",
    "- 'origin 리모트가 이미 있습니다.' 라는 문구가 뜨면\n",
    "- git remote rm origin 실행하고 git remote add ~ 실행\n",
    "- git push origin master : 깃에 푸시하기\n",
    "- git clone https://github,com/xxx/repository주소.git\n",
    "- git pull origin master"
   ]
  }
 ],
 "metadata": {
  "kernelspec": {
   "display_name": "Python 3 (ipykernel)",
   "language": "python",
   "name": "python3"
  },
  "language_info": {
   "codemirror_mode": {
    "name": "ipython",
    "version": 3
   },
   "file_extension": ".py",
   "mimetype": "text/x-python",
   "name": "python",
   "nbconvert_exporter": "python",
   "pygments_lexer": "ipython3",
   "version": "3.9.7"
  }
 },
 "nbformat": 4,
 "nbformat_minor": 5
}
